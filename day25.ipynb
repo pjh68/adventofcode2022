{
 "cells": [
  {
   "attachments": {},
   "cell_type": "markdown",
   "metadata": {},
   "source": [
    "# Day 25\n",
    "\n",
    "SNAFU: Powers of 5, instead of 10.\n",
    "with digits -2, -1, 0, 1, 2\n",
    "\n",
    "```\n",
    "  Decimal          SNAFU\n",
    "        1              1\n",
    "        2              2\n",
    "        3             1=\n",
    "        4             1-\n",
    "        5             10\n",
    "        6             11\n",
    "        7             12\n",
    "        8             2=\n",
    "        9             2-\n",
    "       10             20\n",
    "       15            1=0\n",
    "       20            1-0\n",
    "     2022         1=11-2\n",
    "    12345        1-0---0\n",
    "314159265  1121-1110-1=0\n",
    "```\n",
    "```\n",
    "- => -1\n",
    "= => -2\n",
    "```\n"
   ]
  },
  {
   "cell_type": "code",
   "execution_count": 54,
   "metadata": {},
   "outputs": [
    {
     "name": "stdout",
     "output_type": "stream",
     "text": [
      "1.0\n",
      "3.0\n",
      "8.0\n",
      "9.0\n",
      "-16.0\n"
     ]
    }
   ],
   "source": [
    "SNAFUDIG = {'1':1, '2':2, '0':0, '-':-1, '=':-2}\n",
    "DIGSNAFU = {1:'1', 2:'2', 0:'0', -1:'-', -2:'='}\n",
    "def intFromSNAFU(input:str)->int:\n",
    "    output = 0\n",
    "    for i, c in enumerate(input[::-1]):\n",
    "        dig = SNAFUDIG[c]\n",
    "        output += dig * pow(5,i)\n",
    "    return output\n",
    "\n",
    "#test\n",
    "print(intFromSNAFU('1'))\n",
    "print(intFromSNAFU('1='))\n",
    "print(intFromSNAFU('2='))\n",
    "print(intFromSNAFU('2-'))\n",
    "print(intFromSNAFU('-2-'))"
   ]
  },
  {
   "attachments": {},
   "cell_type": "markdown",
   "metadata": {},
   "source": [
    "How to get to a SNAFU from an int?\n",
    "SNAFU: abc\n",
    "\n",
    "If they were normal base 5 digits:\n",
    "Int = a * 5^3 + b * 5^2 + c\n",
    "\n",
    "SNAFUs have to start with a 1 or 2.\n",
    "\n",
    "Because we can only subtract half the amount, Max SNAFU for any digit position = pow(5,i) / 2 "
   ]
  },
  {
   "cell_type": "code",
   "execution_count": 51,
   "metadata": {},
   "outputs": [
    {
     "name": "stdout",
     "output_type": "stream",
     "text": [
      "312.0\n",
      "312.5\n",
      "1562.0\n",
      "1562.5\n"
     ]
    }
   ],
   "source": [
    "print(2*pow(5,3)+2*pow(5,2)+2*pow(5,1)+2*pow(5,0))\n",
    "print(pow(5,4)/2)\n",
    "\n",
    "print(2*pow(5,4)+2*pow(5,3)+2*pow(5,2)+2*pow(5,1)+2*pow(5,0))\n",
    "print(pow(5,5)/2)\n"
   ]
  },
  {
   "cell_type": "code",
   "execution_count": 55,
   "metadata": {},
   "outputs": [
    {
     "name": "stdout",
     "output_type": "stream",
     "text": [
      "12\n",
      "62\n",
      "312\n",
      "312.0\n",
      "----\n",
      "-312\n",
      "-312.0\n",
      "2\n"
     ]
    }
   ],
   "source": [
    "from math import *\n",
    "\n",
    "def SNAFUfromInt(x:int)->str:\n",
    "    #approach: find the next largest SNAFU that only used positive numbers, then detract the negative number needed\n",
    "    #biggest SNAFU is 20 digits... so maybe extend it out to 25?\n",
    "    snafu = [0] * 25 #i counting from right to left\n",
    "    #find the position of first digit\n",
    "    i = 0\n",
    "    while maxSNAFU(i) < x:\n",
    "        i += 1\n",
    "    maxi = i \n",
    "    remainder = x \n",
    "    while i > 0:\n",
    "        for a in [-2,-1,0,1,2]:\n",
    "            if a*pow(5,i) + maxSNAFU(i-1) >= remainder:\n",
    "                snafu[i] = a\n",
    "                remainder -= a*pow(5,i)\n",
    "                break\n",
    "        else:\n",
    "            raise Exception('Bad maths')\n",
    "        i -= 1\n",
    "    snafu[0] = remainder\n",
    "    \n",
    "    #now just need to convert to string\n",
    "    output = ''\n",
    "    while maxi >= 0:\n",
    "        output += DIGSNAFU[snafu[maxi]]\n",
    "        maxi -=1\n",
    "    return output\n",
    "\n",
    "def maxSNAFU(i:int)->int:\n",
    "    #the maximum value that can be represented by a i length SNAFU\n",
    "    return floor(pow(5,i+1)/2)\n",
    "\n",
    "def minSNAGU(i:int)->int:\n",
    "    #the minimum value that can be represented by a i length SNAFU\n",
    "    return -1*floor(pow(5,i+1)/2)\n",
    "\n",
    "#unit tests\n",
    "print(maxSNAFU(1))\n",
    "print(maxSNAFU(2))\n",
    "print(maxSNAFU(3))\n",
    "print(2*pow(5,3)+2*pow(5,2)+2*pow(5,1)+2)\n",
    "print('----')\n",
    "print(minSNAGU(3))\n",
    "print(-2*pow(5,3)-2*pow(5,2)-2*pow(5,1)-2)\n",
    "\n",
    "print(maxSNAFU(0))\n",
    "\n"
   ]
  },
  {
   "cell_type": "code",
   "execution_count": 56,
   "metadata": {},
   "outputs": [
    {
     "name": "stdout",
     "output_type": "stream",
     "text": [
      "1\n",
      "2\n",
      "20\n",
      "1100\n",
      "1=11-2\n"
     ]
    }
   ],
   "source": [
    "#tests\n",
    "print(SNAFUfromInt(1))\n",
    "print(SNAFUfromInt(2))\n",
    "print(SNAFUfromInt(10))\n",
    "print(SNAFUfromInt(150))\n",
    "print(SNAFUfromInt(2022)) #1=11-2\n"
   ]
  },
  {
   "cell_type": "code",
   "execution_count": 58,
   "metadata": {},
   "outputs": [],
   "source": [
    "def sumSnafu(input:str)->str:\n",
    "    runningSum = 0\n",
    "    for snafu in input.splitlines():\n",
    "        runningSum += intFromSNAFU(snafu)\n",
    "    return SNAFUfromInt(runningSum)\n"
   ]
  },
  {
   "cell_type": "code",
   "execution_count": 59,
   "metadata": {},
   "outputs": [
    {
     "name": "stdout",
     "output_type": "stream",
     "text": [
      "2=-1=0\n"
     ]
    }
   ],
   "source": [
    "#got the building blocks, let test\n",
    "testData = \"\"\"1=-0-2\n",
    "12111\n",
    "2=0=\n",
    "21\n",
    "2=01\n",
    "111\n",
    "20012\n",
    "112\n",
    "1=-1=\n",
    "1-12\n",
    "12\n",
    "1=\n",
    "122\"\"\"\n",
    "\n",
    "print(sumSnafu(testData))"
   ]
  },
  {
   "cell_type": "code",
   "execution_count": 60,
   "metadata": {},
   "outputs": [
    {
     "name": "stdout",
     "output_type": "stream",
     "text": [
      "2=0-2-1-0=20-01-2-20\n"
     ]
    }
   ],
   "source": [
    "#puzzle\n",
    "input = open('day25input.txt').read()\n",
    "print(sumSnafu(input))"
   ]
  }
 ],
 "metadata": {
  "kernelspec": {
   "display_name": "Python 3",
   "language": "python",
   "name": "python3"
  },
  "language_info": {
   "codemirror_mode": {
    "name": "ipython",
    "version": 3
   },
   "file_extension": ".py",
   "mimetype": "text/x-python",
   "name": "python",
   "nbconvert_exporter": "python",
   "pygments_lexer": "ipython3",
   "version": "3.11.1"
  },
  "orig_nbformat": 4,
  "vscode": {
   "interpreter": {
    "hash": "aee8b7b246df8f9039afb4144a1f6fd8d2ca17a180786b69acc140d282b71a49"
   }
  }
 },
 "nbformat": 4,
 "nbformat_minor": 2
}
