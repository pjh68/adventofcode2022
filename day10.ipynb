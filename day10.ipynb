{
 "cells": [
  {
   "cell_type": "markdown",
   "metadata": {},
   "source": [
    "# Day 10\n"
   ]
  },
  {
   "cell_type": "code",
   "execution_count": 8,
   "metadata": {},
   "outputs": [],
   "source": [
    "testinput = \"\"\"addx 15\n",
    "addx -11\n",
    "addx 6\n",
    "addx -3\n",
    "addx 5\n",
    "addx -1\n",
    "addx -8\n",
    "addx 13\n",
    "addx 4\n",
    "noop\n",
    "addx -1\n",
    "addx 5\n",
    "addx -1\n",
    "addx 5\n",
    "addx -1\n",
    "addx 5\n",
    "addx -1\n",
    "addx 5\n",
    "addx -1\n",
    "addx -35\n",
    "addx 1\n",
    "addx 24\n",
    "addx -19\n",
    "addx 1\n",
    "addx 16\n",
    "addx -11\n",
    "noop\n",
    "noop\n",
    "addx 21\n",
    "addx -15\n",
    "noop\n",
    "noop\n",
    "addx -3\n",
    "addx 9\n",
    "addx 1\n",
    "addx -3\n",
    "addx 8\n",
    "addx 1\n",
    "addx 5\n",
    "noop\n",
    "noop\n",
    "noop\n",
    "noop\n",
    "noop\n",
    "addx -36\n",
    "noop\n",
    "addx 1\n",
    "addx 7\n",
    "noop\n",
    "noop\n",
    "noop\n",
    "addx 2\n",
    "addx 6\n",
    "noop\n",
    "noop\n",
    "noop\n",
    "noop\n",
    "noop\n",
    "addx 1\n",
    "noop\n",
    "noop\n",
    "addx 7\n",
    "addx 1\n",
    "noop\n",
    "addx -13\n",
    "addx 13\n",
    "addx 7\n",
    "noop\n",
    "addx 1\n",
    "addx -33\n",
    "noop\n",
    "noop\n",
    "noop\n",
    "addx 2\n",
    "noop\n",
    "noop\n",
    "noop\n",
    "addx 8\n",
    "noop\n",
    "addx -1\n",
    "addx 2\n",
    "addx 1\n",
    "noop\n",
    "addx 17\n",
    "addx -9\n",
    "addx 1\n",
    "addx 1\n",
    "addx -3\n",
    "addx 11\n",
    "noop\n",
    "noop\n",
    "addx 1\n",
    "noop\n",
    "addx 1\n",
    "noop\n",
    "noop\n",
    "addx -13\n",
    "addx -19\n",
    "addx 1\n",
    "addx 3\n",
    "addx 26\n",
    "addx -30\n",
    "addx 12\n",
    "addx -1\n",
    "addx 3\n",
    "addx 1\n",
    "noop\n",
    "noop\n",
    "noop\n",
    "addx -9\n",
    "addx 18\n",
    "addx 1\n",
    "addx 2\n",
    "noop\n",
    "noop\n",
    "addx 9\n",
    "noop\n",
    "noop\n",
    "noop\n",
    "addx -1\n",
    "addx 2\n",
    "addx -37\n",
    "addx 1\n",
    "addx 3\n",
    "noop\n",
    "addx 15\n",
    "addx -21\n",
    "addx 22\n",
    "addx -6\n",
    "addx 1\n",
    "noop\n",
    "addx 2\n",
    "addx 1\n",
    "noop\n",
    "addx -10\n",
    "noop\n",
    "noop\n",
    "addx 20\n",
    "addx 1\n",
    "addx 2\n",
    "addx 2\n",
    "addx -6\n",
    "addx -11\n",
    "noop\n",
    "noop\n",
    "noop\"\"\""
   ]
  },
  {
   "cell_type": "code",
   "execution_count": 9,
   "metadata": {},
   "outputs": [
    {
     "name": "stdout",
     "output_type": "stream",
     "text": [
      "0\n"
     ]
    }
   ],
   "source": [
    "def process(input:str)->int:\n",
    "    cycle:int = 0\n",
    "    x = 1\n",
    "    cummulativeSignal = 0\n",
    "\n",
    "    #click the clock on\n",
    "    def tick():\n",
    "        nonlocal cycle\n",
    "        nonlocal x\n",
    "        nonlocal cummulativeSignal\n",
    "        cycle += 1\n",
    "        signalStrength = cycle * x\n",
    "        if (cycle + 20) % 40 == 0:\n",
    "            cummulativeSignal += signalStrength\n",
    "            print('In cycle:'+str(cycle)+' and x='+str(x)+' -> signal strength:'+str(signalStrength))\n",
    "\n",
    "    for i in input.splitlines():\n",
    "        match i.split(' '):\n",
    "            case ['noop']:\n",
    "                tick()\n",
    "            case ['addx',num]:\n",
    "                tick()\n",
    "                tick()\n",
    "                x += int(num)\n",
    "    \n",
    "    return cummulativeSignal\n",
    "\n",
    "#unit test\n",
    "unitInput = \"\"\"noop\n",
    "addx 3\n",
    "addx -5\"\"\"\n",
    "print(process(unitInput))\n"
   ]
  },
  {
   "cell_type": "code",
   "execution_count": 10,
   "metadata": {},
   "outputs": [
    {
     "name": "stdout",
     "output_type": "stream",
     "text": [
      "In cycle:20 and x=21 -> signal strength:420\n",
      "In cycle:60 and x=19 -> signal strength:1140\n",
      "In cycle:100 and x=18 -> signal strength:1800\n",
      "In cycle:140 and x=21 -> signal strength:2940\n",
      "In cycle:180 and x=16 -> signal strength:2880\n",
      "In cycle:220 and x=18 -> signal strength:3960\n"
     ]
    },
    {
     "data": {
      "text/plain": [
       "13140"
      ]
     },
     "execution_count": 10,
     "metadata": {},
     "output_type": "execute_result"
    }
   ],
   "source": [
    "#tests\n",
    "process(testinput)"
   ]
  },
  {
   "cell_type": "code",
   "execution_count": 11,
   "metadata": {},
   "outputs": [
    {
     "name": "stdout",
     "output_type": "stream",
     "text": [
      "In cycle:20 and x=22 -> signal strength:440\n",
      "In cycle:60 and x=21 -> signal strength:1260\n",
      "In cycle:100 and x=16 -> signal strength:1600\n",
      "In cycle:140 and x=21 -> signal strength:2940\n",
      "In cycle:180 and x=21 -> signal strength:3780\n",
      "In cycle:220 and x=17 -> signal strength:3740\n",
      "13760\n"
     ]
    }
   ],
   "source": [
    "#real input\n",
    "input = open(\"day10input.txt\").read()\n",
    "print(process(input))"
   ]
  },
  {
   "cell_type": "markdown",
   "metadata": {},
   "source": [
    "# Part 2\n",
    "drawing a screen\n"
   ]
  },
  {
   "cell_type": "code",
   "execution_count": 24,
   "metadata": {},
   "outputs": [
    {
     "name": "stdout",
     "output_type": "stream",
     "text": [
      "##..##..##..##..##..##..##..##..##..##..\n",
      "###...###...###...###...###...###...###.\n",
      "####....####....####....####....####....\n",
      "#####.....#####.....#####.....#####.....\n",
      "######......######......######......####\n",
      "#######.......#######.......#######.....\n"
     ]
    }
   ],
   "source": [
    "def printScreen(input:str)->int:\n",
    "    cycle:int = 0\n",
    "    x = 1\n",
    "    currentRow:str = ''\n",
    "\n",
    "    #click the clock on\n",
    "    def tick():\n",
    "        nonlocal cycle\n",
    "        nonlocal x\n",
    "        nonlocal currentRow\n",
    "        \n",
    "        cycle += 1\n",
    "        #check if display should be lit\n",
    "        horizontal = (cycle-1) % 40\n",
    "        if abs(horizontal-x)<=1 :\n",
    "            currentRow += '#'\n",
    "        else:\n",
    "            currentRow += '.'\n",
    "\n",
    "\n",
    "        if cycle % 40 == 0:\n",
    "            print(currentRow)\n",
    "            currentRow = ''\n",
    "\n",
    "        \n",
    "\n",
    "    for i in input.splitlines():\n",
    "        match i.split(' '):\n",
    "            case ['noop']:\n",
    "                tick()\n",
    "            case ['addx',num]:\n",
    "                tick()\n",
    "                tick()\n",
    "                x += int(num)\n",
    "\n",
    "\n",
    "\n",
    "printScreen(testinput)\n"
   ]
  },
  {
   "cell_type": "code",
   "execution_count": 25,
   "metadata": {},
   "outputs": [
    {
     "name": "stdout",
     "output_type": "stream",
     "text": [
      "###..####.#..#.####..##..###..####.####.\n",
      "#..#.#....#.#.....#.#..#.#..#.#....#....\n",
      "#..#.###..##.....#..#....#..#.###..###..\n",
      "###..#....#.#...#...#....###..#....#....\n",
      "#.#..#....#.#..#....#..#.#....#....#....\n",
      "#..#.#....#..#.####..##..#....####.#....\n"
     ]
    }
   ],
   "source": [
    "printScreen(input)"
   ]
  }
 ],
 "metadata": {
  "kernelspec": {
   "display_name": "Python 3.11.0 64-bit",
   "language": "python",
   "name": "python3"
  },
  "language_info": {
   "codemirror_mode": {
    "name": "ipython",
    "version": 3
   },
   "file_extension": ".py",
   "mimetype": "text/x-python",
   "name": "python",
   "nbconvert_exporter": "python",
   "pygments_lexer": "ipython3",
   "version": "3.11.0"
  },
  "orig_nbformat": 4,
  "vscode": {
   "interpreter": {
    "hash": "aee8b7b246df8f9039afb4144a1f6fd8d2ca17a180786b69acc140d282b71a49"
   }
  }
 },
 "nbformat": 4,
 "nbformat_minor": 2
}
