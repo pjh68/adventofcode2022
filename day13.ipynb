{
 "cells": [
  {
   "attachments": {},
   "cell_type": "markdown",
   "metadata": {},
   "source": [
    "# Day 13 - Distress Signal\n"
   ]
  },
  {
   "cell_type": "code",
   "execution_count": 5,
   "metadata": {},
   "outputs": [],
   "source": [
    "testData = \"\"\"[1,1,3,1,1]\n",
    "[1,1,5,1,1]\n",
    "\n",
    "[[1],[2,3,4]]\n",
    "[[1],4]\n",
    "\n",
    "[9]\n",
    "[[8,7,6]]\n",
    "\n",
    "[[4,4],4,4]\n",
    "[[4,4],4,4,4]\n",
    "\n",
    "[7,7,7,7]\n",
    "[7,7,7]\n",
    "\n",
    "[]\n",
    "[3]\n",
    "\n",
    "[[[]]]\n",
    "[[]]\n",
    "\n",
    "[1,[2,[3,[4,[5,6,7]]]],8,9]\n",
    "[1,[2,[3,[4,[5,6,0]]]],8,9]\"\"\"\n",
    "\n"
   ]
  },
  {
   "cell_type": "code",
   "execution_count": 2,
   "metadata": {},
   "outputs": [
    {
     "name": "stdout",
     "output_type": "stream",
     "text": [
      "[1, 2, 3]\n",
      "2\n"
     ]
    }
   ],
   "source": [
    "#let's test out some eval() \n",
    "x = '[1,2,3]'\n",
    "y = eval(x)\n",
    "print(y)\n",
    "print(y[1])\n"
   ]
  },
  {
   "attachments": {},
   "cell_type": "markdown",
   "metadata": {},
   "source": [
    "## Approach\n",
    "Rather than parse the strings manually, just going to EVAL() the crap out of this one!\n"
   ]
  },
  {
   "attachments": {},
   "cell_type": "markdown",
   "metadata": {},
   "source": []
  },
  {
   "attachments": {},
   "cell_type": "markdown",
   "metadata": {},
   "source": [
    "## Comparison rules\n",
    "Packet data consists of lists and integers. Each list starts with [, ends with ], and contains zero or more comma-separated values (either integers or other lists). Each packet is always a list and appears on its own line.\n",
    "\n",
    "When comparing two values, the first value is called left and the second value is called right. Then:\n",
    "\n",
    "- If both values are integers, the lower integer should come first. If the left integer is lower than the right integer, the inputs are in the right order. If the left integer is higher than the right integer, the inputs are not in the right order. Otherwise, the inputs are the same integer; continue checking the next part of the input.\n",
    "- If both values are lists, compare the first value of each list, then the second value, and so on. If the left list runs out of items first, the inputs are in the right order. If the right list runs out of items first, the inputs are not in the right order. If the lists are the same length and no comparison makes a decision about the order, continue checking the next part of the input.\n",
    "- If exactly one value is an integer, convert the integer to a list which contains that integer as its only value, then retry the comparison. For example, if comparing [0,0,0] and 2, convert the right value to [2] (a list containing 2); the result is then found by instead comparing [0,0,0] and [2].\n",
    "\n",
    "\n",
    "Using these rules, you can determine which of the pairs in the example are in the right order:"
   ]
  },
  {
   "attachments": {},
   "cell_type": "markdown",
   "metadata": {},
   "source": [
    "## Approach - part 2\n",
    "\n",
    "Comparing two packets requires a level of recursion. But... it requires diving into each of them... so can't do a simple recurrsion on one object.\n",
    "Hmm... let's just get on and sling some code and see what drops out.\n",
    "\n",
    "Need a three way boolean: True, False, unknown.\n",
    "Can None stand in? Probably"
   ]
  },
  {
   "cell_type": "code",
   "execution_count": 23,
   "metadata": {},
   "outputs": [
    {
     "name": "stdout",
     "output_type": "stream",
     "text": [
      "== Pair 1 ==\n",
      "Compare [1, 1, 3, 1, 1] vs [1, 1, 5, 1, 1]\n",
      "Compare 1 vs 1\n",
      "Compare 1 vs 1\n",
      "Compare 3 vs 5\n",
      "Left side is smaller, so inputs are in the right order\n",
      "== Pair 2 ==\n",
      "Compare [[1], [2, 3, 4]] vs [[1], 4]\n",
      "Compare [1] vs [1]\n",
      "Compare 1 vs 1\n",
      "Compare [2, 3, 4] vs 4\n",
      "Compare [2, 3, 4] vs [4]\n",
      "Compare 2 vs 4\n",
      "Left side is smaller, so inputs are in the right order\n",
      "== Pair 3 ==\n",
      "Compare [9] vs [[8, 7, 6]]\n",
      "Compare 9 vs [8, 7, 6]\n",
      "Compare [9] vs [8, 7, 6]\n",
      "Compare 9 vs 8\n",
      "Left side is smaller, so inputs are in the right order\n",
      "== Pair 4 ==\n",
      "Compare [[4, 4], 4, 4] vs [[4, 4], 4, 4, 4]\n",
      "Compare [4, 4] vs [4, 4]\n",
      "Compare 4 vs 4\n",
      "Compare 4 vs 4\n",
      "Compare 4 vs 4\n",
      "Compare 4 vs 4\n",
      "Left side is smaller, so inputs are in the right order\n",
      "== Pair 5 ==\n",
      "Compare [7, 7, 7, 7] vs [7, 7, 7]\n",
      "Compare 7 vs 7\n",
      "Compare 7 vs 7\n",
      "Compare 7 vs 7\n",
      "Right side is smaller, so inputs are not in the right order\n",
      "== Pair 6 ==\n",
      "Compare [] vs [3]\n",
      "Left side is smaller, so inputs are in the right order\n",
      "== Pair 7 ==\n",
      "Compare [[[]]] vs [[]]\n",
      "Compare [[]] vs []\n",
      "Right side is smaller, so inputs are not in the right order\n",
      "== Pair 8 ==\n",
      "Compare [1, [2, [3, [4, [5, 6, 7]]]], 8, 9] vs [1, [2, [3, [4, [5, 6, 0]]]], 8, 9]\n",
      "Compare 1 vs 1\n",
      "Compare [2, [3, [4, [5, 6, 7]]]] vs [2, [3, [4, [5, 6, 0]]]]\n",
      "Compare 2 vs 2\n",
      "Compare [3, [4, [5, 6, 7]]] vs [3, [4, [5, 6, 0]]]\n",
      "Compare 3 vs 3\n",
      "Compare [4, [5, 6, 7]] vs [4, [5, 6, 0]]\n",
      "Compare 4 vs 4\n",
      "Compare [5, 6, 7] vs [5, 6, 0]\n",
      "Compare 5 vs 5\n",
      "Compare 6 vs 6\n",
      "Compare 7 vs 0\n",
      "Compare 8 vs 8\n",
      "Compare 9 vs 9\n",
      "Right side is smaller, so inputs are not in the right order\n",
      "---\n",
      "Correctly ordered pairs: [1, 2, 3, 4, 6]\n",
      "Sum of indicies of correctly ordered pairs: 16\n"
     ]
    }
   ],
   "source": [
    "def process(input:str):\n",
    "    #process the input string\n",
    "    rows = input.splitlines()\n",
    "    pairCount = 0\n",
    "    correctlyOrderPairs = []\n",
    "    for i in range(0,len(rows),3):\n",
    "        pairCount += 1\n",
    "        print('== Pair '+str(pairCount)+' ==')\n",
    "        left = eval(rows[i])\n",
    "        right = eval(rows[i+1])\n",
    "        if compare(left,right):\n",
    "            print ('Left side is smaller, so inputs are in the right order')\n",
    "            correctlyOrderPairs.append(pairCount)\n",
    "        else:\n",
    "            print('Right side is smaller, so inputs are not in the right order')\n",
    "    #calculate sum\n",
    "    print('---')\n",
    "    print('Correctly ordered pairs: '+str(correctlyOrderPairs))\n",
    "    print('Sum of indicies of correctly ordered pairs: '+str(sum(correctlyOrderPairs)))\n",
    "\n",
    "def compare(left, right)->bool:\n",
    "    #compare left and right side. Return true is in order, false is not.\n",
    "    print('Compare '+str(left)+' vs '+str(right))\n",
    "    #If both values are integers, the lower integer should come first\n",
    "    if isinstance(left, int) and isinstance(right, int):\n",
    "        if left < right:\n",
    "            return True\n",
    "        elif right > left:\n",
    "            return False  \n",
    "        else:\n",
    "            return None \n",
    "    #If both values are lists, compare the first value of each list, then the second value, and so on.\n",
    "    elif isinstance(left,list) and isinstance(right, list):\n",
    "        #If the lists are the same length and no comparison makes a decision about the order, continue checking the next part of the input.\n",
    "        if len(left)==0 and len(right)==0:\n",
    "            return None\n",
    "        #If the left list runs out of items first, the inputs are in the right order\n",
    "        elif len(left)==0:\n",
    "            return True\n",
    "        #If the right list runs out of items first, the inputs are not in the right order.\n",
    "        elif len(right)==0:\n",
    "            return False\n",
    "        else:\n",
    "            for i in range(len(left)):\n",
    "                result = compare(left[i],right[i])\n",
    "                if result != None:\n",
    "                    return result\n",
    "                #need to check for running out of items... \n",
    "                elif i+1==len(left) and i+1==len(right):\n",
    "                    return None\n",
    "                elif i+1==len(right):\n",
    "                    #running out of items on right\n",
    "                    return False\n",
    "                elif i+1==len(left) and i+1<len(right):\n",
    "                    return True\n",
    "\n",
    "\n",
    "    #If exactly one value is an integer, convert the integer to a list which contains that integer as its only value, then retry the comparison.\n",
    "    elif isinstance(left, int) and isinstance(right, list):\n",
    "        return compare([left],right)\n",
    "    elif isinstance(left,list) and isinstance(right,int):\n",
    "        return compare(left,[right])\n",
    "    else:\n",
    "        print('failed to compare')\n",
    "\n",
    "\n",
    "\n",
    "\n",
    "#tests\n",
    "process(testData)"
   ]
  }
 ],
 "metadata": {
  "kernelspec": {
   "display_name": "Python 3",
   "language": "python",
   "name": "python3"
  },
  "language_info": {
   "codemirror_mode": {
    "name": "ipython",
    "version": 3
   },
   "file_extension": ".py",
   "mimetype": "text/x-python",
   "name": "python",
   "nbconvert_exporter": "python",
   "pygments_lexer": "ipython3",
   "version": "3.11.0"
  },
  "orig_nbformat": 4,
  "vscode": {
   "interpreter": {
    "hash": "aee8b7b246df8f9039afb4144a1f6fd8d2ca17a180786b69acc140d282b71a49"
   }
  }
 },
 "nbformat": 4,
 "nbformat_minor": 2
}
