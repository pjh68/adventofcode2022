{
 "cells": [
  {
   "cell_type": "code",
   "execution_count": 26,
   "metadata": {},
   "outputs": [],
   "source": [
    "import multiprocess as mp\n",
    "from functools import *\n",
    "\n",
    "class Heightmap:\n",
    "    def __init__(self, input:str):\n",
    "        row = 0\n",
    "        self.map= []\n",
    "        for r in input.splitlines():\n",
    "            rowOutput = []\n",
    "            col = 0\n",
    "            for c in r:\n",
    "                if c == 'S':\n",
    "                    self.startPos = (row, col)\n",
    "                    height = 1\n",
    "                elif c == 'E':\n",
    "                    self.endPos = (row, col)\n",
    "                    height = 26\n",
    "                else:\n",
    "                    height = ord(c) - ord('a') + 1\n",
    "                rowOutput.append(height)\n",
    "                col += 1\n",
    "            self.map.append(rowOutput)\n",
    "            row += 1\n",
    "        #set boundaries of map\n",
    "        self.height = len(self.map)\n",
    "        self.width = len(self.map[0])\n",
    "\n",
    "\n",
    "def shortestPath(map:Heightmap, withStartPosition=None)->int:\n",
    "    #adjustable start posiiton\n",
    "    if withStartPosition==None:\n",
    "        withStartPosition = map.startPos\n",
    "\n",
    "    \n",
    "    #calculate the shortest path between S and E\n",
    "    #can only step up 1 height or down any height -> our graph of valid moves from from the height\n",
    "    infiniteNumber = 1000000 #a very large number (approx infinity)\n",
    "    distanceMap:{tuple[int, int], int} = {} #the shortest distance from the start to each position\n",
    "    possibleMoves = [(0,1),(0,-1),(1,0),(-1,0)] #all possible moves\n",
    "\n",
    "    unvisited:set(tuple[int,int]) = set()\n",
    "    for r in range(map.height):\n",
    "        for c in range(map.width):\n",
    "            unvisited.add((r,c))\n",
    "            distanceMap[(r,c)] = infiniteNumber\n",
    "\n",
    "    distanceMap[withStartPosition] = 0 #zero steps to get to the start\n",
    "    currentNode = withStartPosition\n",
    "    currentDistance = 0\n",
    "\n",
    "    while len(unvisited) > 0:\n",
    "        #NEED TO SELECT CURRENT NODE - smallest distance of unvisited nodes\n",
    "        minDistance = infiniteNumber #a very large number (approx infinity)\n",
    "        currentNode = None\n",
    "        for (k, v) in distanceMap.items():\n",
    "            if v <= minDistance and k in unvisited:\n",
    "                minDistance = v\n",
    "                currentNode = k\n",
    "\n",
    "        if currentNode == None:\n",
    "            raise Exception('Something has gone terribly wrong')\n",
    "\n",
    "        #get info about current node\n",
    "        currentHeight = map.map[currentNode[0]][currentNode[1]]\n",
    "        currentDistance = minDistance\n",
    "        targetDistance = currentDistance + 1\n",
    "        for move in possibleMoves:\n",
    "            targetY = currentNode[0] + move[0]\n",
    "            targetX = currentNode[1] + move[1]\n",
    "            if targetX >= 0 and targetX < map.width and targetY >= 0 and targetY < map.height:\n",
    "                #in the board of play\n",
    "                target = (targetY, targetX)\n",
    "                #skip if we've already fully visited this node\n",
    "                if target in unvisited:\n",
    "                    targetH = map.map[targetY][targetX]\n",
    "                    if targetH <= currentHeight + 1:\n",
    "                        #valid move\n",
    "                        if target in distanceMap:\n",
    "                            currentShortestToTarget = distanceMap[target]\n",
    "                            distanceMap[target] = min(currentShortestToTarget, targetDistance)\n",
    "                        else:\n",
    "                            distanceMap[target] = targetDistance\n",
    "        #we're fully done with current node\n",
    "        unvisited.remove(currentNode)\n",
    "        #check if we're done\n",
    "        if currentNode == map.endPos:\n",
    "            #we're done!\n",
    "            break\n",
    "    return distanceMap[map.endPos]\n",
    "\n",
    "def part2shortestPath(map)->int:\n",
    "    #iterate through all the candidate heights that are 1\n",
    "    pathLengths = [] #store all the possible path lengths - we will then want shortest\n",
    "    startPositions:[tuple[int,int]] = []\n",
    "    for r in range(map.height):\n",
    "        for c in range(map.width):\n",
    "            posHeight = map.map[r][c]\n",
    "            if posHeight == 1:\n",
    "                startPositions.append((r,c))\n",
    "    print('Possible start locations: '+ str(len(startPositions)))\n",
    "    print('Let\\'s hack time... using ' + str(mp.cpu_count())+ ' CPUs')\n",
    "    pool = mp.Pool(mp.cpu_count())\n",
    "    partialSP = partial(shortestPath, map)\n",
    "    pathLengths = pool.map(partialSP, startPositions)\n",
    "    pool.close()\n",
    "    \n",
    "    pathLengths.sort()\n",
    "    return pathLengths[0]\n",
    "\n",
    "\n"
   ]
  },
  {
   "cell_type": "code",
   "execution_count": 27,
   "metadata": {},
   "outputs": [
    {
     "name": "stdout",
     "output_type": "stream",
     "text": [
      "Possible start locations: 1779\n",
      "Let's hack time... using 10 CPUs\n",
      "480\n"
     ]
    }
   ],
   "source": [
    "input = open(\"day12input.txt\").read()\n",
    "hm = Heightmap(input)\n",
    "print(part2shortestPath(hm))"
   ]
  },
  {
   "attachments": {},
   "cell_type": "markdown",
   "metadata": {},
   "source": [
    "Interstingly, the parallelised version of this took the same amount of time as single threaded... not sure that quite worked as intended!\n",
    "pool.apply is the wrong approach, should be using map\n"
   ]
  }
 ],
 "metadata": {
  "kernelspec": {
   "display_name": "Python 3",
   "language": "python",
   "name": "python3"
  },
  "language_info": {
   "codemirror_mode": {
    "name": "ipython",
    "version": 3
   },
   "file_extension": ".py",
   "mimetype": "text/x-python",
   "name": "python",
   "nbconvert_exporter": "python",
   "pygments_lexer": "ipython3",
   "version": "3.11.0"
  },
  "orig_nbformat": 4,
  "vscode": {
   "interpreter": {
    "hash": "aee8b7b246df8f9039afb4144a1f6fd8d2ca17a180786b69acc140d282b71a49"
   }
  }
 },
 "nbformat": 4,
 "nbformat_minor": 2
}
