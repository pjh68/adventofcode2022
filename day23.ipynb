{
 "cells": [
  {
   "attachments": {},
   "cell_type": "markdown",
   "metadata": {},
   "source": [
    "# Day 23 Unstable Diffusion\n",
    "\n",
    "Approach: hold coordinates of each elf as x,y tuple\n"
   ]
  },
  {
   "cell_type": "code",
   "execution_count": 101,
   "metadata": {},
   "outputs": [],
   "source": [
    "from itertools import *\n",
    "from collections import defaultdict\n",
    "\n",
    "#all 8 directions we need to consider. Note, line load in from top, so +1 is south\n",
    "N = (0,-1)\n",
    "NE = (1,-1)\n",
    "NW = (-1,-1)\n",
    "E = (1,0)\n",
    "W = (-1,0)\n",
    "S = (0,1)\n",
    "SE = (1,1)\n",
    "SW = (-1,1)\n",
    "directions = [N,NE,NW,E,W,S,SE,SW]\n",
    "\n",
    "\n",
    "\n",
    "def addCoord(a:tuple[int,int], b:tuple[int,int]):\n",
    "    return (a[0] + b[0], a[1] + b[1])\n",
    " \n",
    "class Game:\n",
    "    def __init__(self, input:str):\n",
    "        self.elves = set()\n",
    "        for y, line in enumerate(input.splitlines()):\n",
    "            for x, c in enumerate(line):\n",
    "                if c == '#':\n",
    "                    self.elves.add((x,y))\n",
    "                x += 1\n",
    "        self.rounds = 0\n",
    "\n",
    "        #a lookup of [([cells that need to be empty],movedirection)]\n",
    "        self.moverules = [   ([N, NE, NW],N),\n",
    "                ([S, SE, SW],S),\n",
    "                ([W,NW,SW],W),\n",
    "                ([E,NE,SE],E) ]\n",
    "\n",
    "    def runRounds(self,numRounds:int):\n",
    "        for _ in range(numRounds):\n",
    "            self.runRound()\n",
    "\n",
    "    def runUntilComplete(self)->int:\n",
    "        while self.runRound():\n",
    "            continue\n",
    "        return self.rounds\n",
    "\n",
    "    def runRound(self)->bool:\n",
    "        #return true if any elf moved\n",
    "        self.rounds += 1\n",
    "        output = False\n",
    "        proposedPositions = defaultdict(lambda:[])\n",
    "        for elf in self.elves:\n",
    "            #if no elves in any of the directions, do nothing\n",
    "            allDirections =  set([addCoord(elf,d) for d in directions])\n",
    "            if len(self.elves.intersection(allDirections)) == 0:\n",
    "                #elf does nothing\n",
    "                #BUT... could it block another elf from moving here? ... doens't change output\n",
    "                proposedPositions[elf].append(elf)\n",
    "                continue\n",
    "            else:\n",
    "                for test, direction in self.moverules:\n",
    "                    t = set([addCoord(elf,v) for v in test])\n",
    "                    if len(self.elves.intersection(t)) == 0:\n",
    "                        pos = addCoord(elf,direction)\n",
    "                        proposedPositions[pos].append(elf)\n",
    "                        break\n",
    "                else:\n",
    "                    #no rules matched... so don't move\n",
    "                    proposedPositions[elf].append(elf)\n",
    "        #we know know all the proposed moves\n",
    "        for pos, elf in proposedPositions.items():\n",
    "            if len(elf) == 1:\n",
    "                if elf[0] != pos:\n",
    "                    self.elves.remove(elf[0])\n",
    "                    self.elves.add(pos)\n",
    "                    output = True\n",
    "        #rotate the rule moves\n",
    "        self.moverules.append(self.moverules.pop(0))\n",
    "        return output\n",
    "            \n",
    "    def emptyTiles(self)->int:\n",
    "        #number of empty tiles in smallest bounding box\n",
    "        x = [e[0] for e in self.elves]\n",
    "        y = [e[1] for e in self.elves]\n",
    "        return (max(x) - min(x) + 1) * (max(y) - min(y) + 1) - len(self.elves)\n"
   ]
  },
  {
   "cell_type": "code",
   "execution_count": 102,
   "metadata": {},
   "outputs": [
    {
     "name": "stdout",
     "output_type": "stream",
     "text": [
      "110\n",
      "20\n"
     ]
    }
   ],
   "source": [
    "testInput = \"\"\"..............\n",
    "..............\n",
    ".......#......\n",
    ".....###.#....\n",
    "...#...#.#....\n",
    "....#...##....\n",
    "...#.###......\n",
    "...##.#.##....\n",
    "....#..#......\n",
    "..............\n",
    "..............\n",
    "..............\"\"\"\n",
    "\n",
    "tg = Game(testInput)\n",
    "tg.runRounds(10)\n",
    "print(tg.emptyTiles())\n",
    "#part 2\n",
    "print(tg.runUntilComplete())\n"
   ]
  },
  {
   "cell_type": "code",
   "execution_count": 104,
   "metadata": {},
   "outputs": [
    {
     "name": "stdout",
     "output_type": "stream",
     "text": [
      "3931\n",
      "944\n"
     ]
    }
   ],
   "source": [
    "puzzleInput = open('day23input.txt').read().strip()\n",
    "g = Game(puzzleInput)\n",
    "g.runRounds(10)\n",
    "print(g.emptyTiles())\n",
    "print(g.runUntilComplete())\n"
   ]
  }
 ],
 "metadata": {
  "kernelspec": {
   "display_name": "Python 3",
   "language": "python",
   "name": "python3"
  },
  "language_info": {
   "codemirror_mode": {
    "name": "ipython",
    "version": 3
   },
   "file_extension": ".py",
   "mimetype": "text/x-python",
   "name": "python",
   "nbconvert_exporter": "python",
   "pygments_lexer": "ipython3",
   "version": "3.11.1"
  },
  "orig_nbformat": 4,
  "vscode": {
   "interpreter": {
    "hash": "aee8b7b246df8f9039afb4144a1f6fd8d2ca17a180786b69acc140d282b71a49"
   }
  }
 },
 "nbformat": 4,
 "nbformat_minor": 2
}
