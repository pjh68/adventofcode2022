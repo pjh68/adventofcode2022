{
 "cells": [
  {
   "attachments": {},
   "cell_type": "markdown",
   "metadata": {},
   "source": [
    "# Day 20 - Grove Positioning System\n"
   ]
  },
  {
   "cell_type": "code",
   "execution_count": 10,
   "metadata": {},
   "outputs": [
    {
     "name": "stdout",
     "output_type": "stream",
     "text": [
      "1, 2, -3, 3, -2, 0, 4, \n",
      "1, 2, -3, 4, 0, 3, -2, \n",
      "Co-ords: 3\n"
     ]
    },
    {
     "data": {
      "text/plain": [
       "3"
      ]
     },
     "execution_count": 10,
     "metadata": {},
     "output_type": "execute_result"
    }
   ],
   "source": [
    "from pprint import pprint\n",
    "\n",
    "testData = \"\"\"1\n",
    "2\n",
    "-3\n",
    "3\n",
    "-2\n",
    "0\n",
    "4\"\"\"\n",
    "\n",
    "class Linked:\n",
    "    def __init__(self, value):\n",
    "        self.left = None\n",
    "        self.right = None\n",
    "        self.value = value\n",
    "\n",
    "    def __str__(self):\n",
    "        return str(self.value)\n",
    "\n",
    "class Ring:\n",
    "    def __init__(self,input:str):\n",
    "        self.ring = []\n",
    "        for l in input.splitlines():\n",
    "            item = Linked(int(l))\n",
    "            self.ring.append(item)\n",
    "        self.mod = len(self.ring)\n",
    "        for i in range(len(self.ring)):\n",
    "            self.ring[i].left = self.ring[(i-1)%self.mod]\n",
    "            self.ring[i].right = self.ring[(i+1)%self.mod]\n",
    "\n",
    "    def __str__(self):\n",
    "        output = ''\n",
    "        i = len(self.ring)\n",
    "        item = self.ring[0]\n",
    "        while i > 0:\n",
    "            output += str(item) + ', '\n",
    "            item = item.right\n",
    "            i -= 1\n",
    "        return output\n",
    "\n",
    "    def mix(self):\n",
    "        for item in self.ring:\n",
    "            #print('Starting mix on item ' + str(item.value))\n",
    "            #need to work out new position\n",
    "            target = item\n",
    "            if item.value < 0:\n",
    "                #moving left\n",
    "                movesLeft = abs(item.value)%self.mod\n",
    "                while movesLeft > 0:\n",
    "                    target = target.left\n",
    "                    movesLeft -= 1\n",
    "                item.left.right = item.right\n",
    "                item.right.left = item.left\n",
    "                item.right = target\n",
    "                item.left = target.left\n",
    "                target.left.right = item\n",
    "                target.left = item\n",
    "            elif item.value > 0: #condition required, as we don't do anything with a zero\n",
    "                movesRight = item.value%self.mod\n",
    "                while movesRight > 0:\n",
    "                    target = target.right\n",
    "                    movesRight -= 1\n",
    "                item.left.right = item.right\n",
    "                item.right.left = item.left\n",
    "                item.left = target\n",
    "                item.right = target.right\n",
    "                target.right.left = item\n",
    "                target.right = item\n",
    "            #print('post mix: ' +str(self))\n",
    "\n",
    "    def coords(self):\n",
    "        #looking at the 1000th, 2000th, and 3000th numbers after the value 0\n",
    "        i = len(self.ring)\n",
    "        zero = self.ring[0]\n",
    "        while i > 0:\n",
    "            if zero.value == 0:\n",
    "                break\n",
    "            zero = zero.right\n",
    "            i -= 1\n",
    "        else:\n",
    "            raise Exception('Couldnt find the zero in the ring')\n",
    "        output = 0\n",
    "        item = zero\n",
    "        i = 1000%self.mod\n",
    "        while i > 0:\n",
    "            item = item.right\n",
    "            i -= 1\n",
    "        output += item.value\n",
    "\n",
    "        item = zero\n",
    "        i = 2000%self.mod\n",
    "        while i > 0:\n",
    "            item = item.right\n",
    "            i -= 1\n",
    "        output += item.value\n",
    "        \n",
    "        item = zero\n",
    "        i = 3000%self.mod\n",
    "        while i > 0:\n",
    "            item = item.right\n",
    "            i -= 1\n",
    "        output += item.value\n",
    "        print('Co-ords: ' + str(output))\n",
    "        return output\n",
    "\n",
    "#test \n",
    "tr = Ring(testData)\n",
    "print(tr)\n",
    "tr.mix()\n",
    "print(tr)\n",
    "tr.coords()\n"
   ]
  },
  {
   "cell_type": "code",
   "execution_count": null,
   "metadata": {},
   "outputs": [],
   "source": [
    "puzzledata = open('day20input.txt').read()\n",
    "r = Ring(puzzledata)\n",
    "r.mix()\n",
    "r.coords()\n"
   ]
  }
 ],
 "metadata": {
  "kernelspec": {
   "display_name": "Python 3",
   "language": "python",
   "name": "python3"
  },
  "language_info": {
   "codemirror_mode": {
    "name": "ipython",
    "version": 3
   },
   "file_extension": ".py",
   "mimetype": "text/x-python",
   "name": "python",
   "nbconvert_exporter": "python",
   "pygments_lexer": "ipython3",
   "version": "3.11.0"
  },
  "orig_nbformat": 4,
  "vscode": {
   "interpreter": {
    "hash": "aee8b7b246df8f9039afb4144a1f6fd8d2ca17a180786b69acc140d282b71a49"
   }
  }
 },
 "nbformat": 4,
 "nbformat_minor": 2
}
