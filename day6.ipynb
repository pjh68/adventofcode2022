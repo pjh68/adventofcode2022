{
 "cells": [
  {
   "cell_type": "markdown",
   "metadata": {},
   "source": [
    "# Day 6: Tuning Trouble \n",
    "\n",
    "The preparations are finally complete; you and the Elves leave camp on foot and begin to make your way toward the star fruit grove.\n",
    "\n",
    "As you move through the dense undergrowth, one of the Elves gives you a handheld device. He says that it has many fancy features, but the most important one to set up right now is the communication system.\n",
    "\n",
    "However, because he's heard you have significant experience dealing with signal-based systems, he convinced the other Elves that it would be okay to give you their one malfunctioning device - surely you'll have no problem fixing it.\n",
    "\n",
    "As if inspired by comedic timing, the device emits a few colorful sparks.\n",
    "\n",
    "To be able to communicate with the Elves, the device needs to lock on to their signal. The signal is a series of seemingly-random characters that the device receives one at a time.\n",
    "\n",
    "To fix the communication system, you need to add a subroutine to the device that detects a start-of-packet marker in the datastream. In the protocol being used by the Elves, the start of a packet is indicated by a sequence of four characters that are all different.\n",
    "\n",
    "The device will send your subroutine a datastream buffer (your puzzle input); your subroutine needs to identify the first position where the four most recently received characters were all different. Specifically, it needs to report the number of characters from the beginning of the buffer to the end of the first such four-character marker.\n",
    "\n",
    "For example, suppose you receive the following datastream buffer:\n",
    "\n",
    "`mjqjpqmgbljsphdztnvjfqwrcgsmlb`\n",
    "\n",
    "After the first three characters (mjq) have been received, there haven't been enough characters received yet to find the marker. The first time a marker could occur is after the fourth character is received, making the most recent four characters mjqj. Because j is repeated, this isn't a marker.\n",
    "\n",
    "The first time a marker appears is after the seventh character arrives. Once it does, the last four characters received are jpqm, which are all different. In this case, your subroutine should report the value 7, because the first start-of-packet marker is complete after 7 characters have been processed.\n",
    "\n",
    "Here are a few more examples:\n",
    "\n",
    "- `bvwbjplbgvbhsrlpgdmjqwftvncz`: first marker after character 5\n",
    "- `nppdvjthqldpwncqszvftbrmjlhg`: first marker after character 6\n",
    "- `nznrnfrfntjfmvfwmzdfjlvtqnbhcprsg`: first marker after character 10\n",
    "- `zcfzfwzzqfrljwzlrfnpqdbhtmscgvjw`: first marker after character 11\n",
    "How many characters need to be processed before the first start-of-packet marker is detected?"
   ]
  },
  {
   "cell_type": "code",
   "execution_count": 83,
   "metadata": {},
   "outputs": [],
   "source": [
    "testdataInputs = ['mjqjpqmgbljsphdztnvjfqwrcgsmlb','bvwbjplbgvbhsrlpgdmjqwftvncz','nppdvjthqldpwncqszvftbrmjlhg','nznrnfrfntjfmvfwmzdfjlvtqnbhcprsg','zcfzfwzzqfrljwzlrfnpqdbhtmscgvjw']\n",
    "testdataAnswers = [7,5,6,10,11]\n"
   ]
  },
  {
   "cell_type": "code",
   "execution_count": 84,
   "metadata": {},
   "outputs": [],
   "source": [
    "def charatersUntilMarkerComplete(input:str)->int:\n",
    "    #need to store last four characters\n",
    "    lastFour:[str] = [] \n",
    "    charCount = 0\n",
    "    \n",
    "    for c in input:\n",
    "        charCount += 1\n",
    "        if len(lastFour)==4:\n",
    "            lastFour.pop(0)\n",
    "        lastFour.append(c)\n",
    "        setOfLastFour = set(lastFour)\n",
    "        if len(setOfLastFour)==4:\n",
    "            return charCount\n",
    "    #error condition - didn't find the marker        \n",
    "    return 0"
   ]
  },
  {
   "cell_type": "code",
   "execution_count": 85,
   "metadata": {},
   "outputs": [
    {
     "name": "stdout",
     "output_type": "stream",
     "text": [
      "mjqjpqmgbljsphdztnvjfqwrcgsmlb\n",
      "7\n",
      "Test passed? True\n",
      "bvwbjplbgvbhsrlpgdmjqwftvncz\n",
      "5\n",
      "Test passed? True\n",
      "nppdvjthqldpwncqszvftbrmjlhg\n",
      "6\n",
      "Test passed? True\n",
      "nznrnfrfntjfmvfwmzdfjlvtqnbhcprsg\n",
      "10\n",
      "Test passed? True\n",
      "zcfzfwzzqfrljwzlrfnpqdbhtmscgvjw\n",
      "11\n",
      "Test passed? True\n",
      "-----------------------------\n",
      "All test pasing? True\n"
     ]
    }
   ],
   "source": [
    "#tests\n",
    "\n",
    "allTestsPassing = True\n",
    "for i in range(5):\n",
    "    input = testdataInputs[i]\n",
    "    print(input)\n",
    "    output = charatersUntilMarkerComplete(input)\n",
    "    print(output)\n",
    "    testResult = output == testdataAnswers[i]\n",
    "    print('Test passed? ' + str(testResult))\n",
    "    allTestsPassing = allTestsPassing and testResult\n",
    "print('-----------------------------')\n",
    "print('All test pasing? ' + str(allTestsPassing))"
   ]
  },
  {
   "cell_type": "code",
   "execution_count": 86,
   "metadata": {},
   "outputs": [
    {
     "name": "stdout",
     "output_type": "stream",
     "text": [
      "1707\n"
     ]
    }
   ],
   "source": [
    "#for real\n",
    "input = open(\"day6input.txt\").read()\n",
    "output = charatersUntilMarkerComplete(input)\n",
    "print(output)\n"
   ]
  },
  {
   "cell_type": "markdown",
   "metadata": {},
   "source": [
    "# Part Two\n",
    "\n",
    "Your device's communication system is correctly detecting packets, but still isn't working. It looks like it also needs to look for messages.\n",
    "\n",
    "A start-of-message marker is just like a start-of-packet marker, except it consists of 14 distinct characters rather than 4.\n",
    "\n",
    "Here are the first positions of start-of-message markers for all of the above examples:\n",
    "\n",
    "- `mjqjpqmgbljsphdztnvjfqwrcgsmlb`: first marker after character 19\n",
    "- `bvwbjplbgvbhsrlpgdmjqwftvncz`: first marker after character 23\n",
    "- `nppdvjthqldpwncqszvftbrmjlhg`: first marker after character 23\n",
    "- `nznrnfrfntjfmvfwmzdfjlvtqnbhcprsg`: first marker after character 29\n",
    "- `zcfzfwzzqfrljwzlrfnpqdbhtmscgvjw`: first marker after character 26\n",
    "\n",
    "\n",
    "How many characters need to be processed before the first start-of-message marker is detected?"
   ]
  },
  {
   "cell_type": "code",
   "execution_count": 87,
   "metadata": {},
   "outputs": [],
   "source": [
    "def charatersUntilMessageMarkerComplete(input:str)->int:\n",
    "    #need to store last four characters\n",
    "    lastFourteen:[str] = [] \n",
    "    charCount = 0\n",
    "    \n",
    "    for c in input:\n",
    "        charCount += 1\n",
    "        if len(lastFourteen)==14:\n",
    "            lastFourteen.pop(0)\n",
    "        lastFourteen.append(c)\n",
    "        setOfLastFourteen = set(lastFourteen)\n",
    "        if len(setOfLastFourteen)==14:\n",
    "            return charCount\n",
    "    #error condition - didn't find the marker        \n",
    "    return 0"
   ]
  },
  {
   "cell_type": "code",
   "execution_count": 88,
   "metadata": {},
   "outputs": [
    {
     "name": "stdout",
     "output_type": "stream",
     "text": [
      "mjqjpqmgbljsphdztnvjfqwrcgsmlb\n",
      "19\n",
      "Test passed? True\n",
      "bvwbjplbgvbhsrlpgdmjqwftvncz\n",
      "23\n",
      "Test passed? True\n",
      "nppdvjthqldpwncqszvftbrmjlhg\n",
      "23\n",
      "Test passed? True\n",
      "nznrnfrfntjfmvfwmzdfjlvtqnbhcprsg\n",
      "29\n",
      "Test passed? True\n",
      "zcfzfwzzqfrljwzlrfnpqdbhtmscgvjw\n",
      "26\n",
      "Test passed? True\n",
      "-----------------------------\n",
      "All test pasing? True\n"
     ]
    }
   ],
   "source": [
    "#test data \n",
    "\n",
    "testdataInputs = ['mjqjpqmgbljsphdztnvjfqwrcgsmlb','bvwbjplbgvbhsrlpgdmjqwftvncz','nppdvjthqldpwncqszvftbrmjlhg','nznrnfrfntjfmvfwmzdfjlvtqnbhcprsg','zcfzfwzzqfrljwzlrfnpqdbhtmscgvjw']\n",
    "testdataAnswers = [19,23,23,29,26]\n",
    "\n",
    "allTestsPassing = True\n",
    "for i in range(5):\n",
    "    input = testdataInputs[i]\n",
    "    print(input)\n",
    "    output = charatersUntilMessageMarkerComplete(input)\n",
    "    print(output)\n",
    "    testResult = output == testdataAnswers[i]\n",
    "    print('Test passed? ' + str(testResult))\n",
    "    allTestsPassing = allTestsPassing and testResult\n",
    "print('-----------------------------')\n",
    "print('All test pasing? ' + str(allTestsPassing))\n"
   ]
  },
  {
   "cell_type": "code",
   "execution_count": 89,
   "metadata": {},
   "outputs": [
    {
     "name": "stdout",
     "output_type": "stream",
     "text": [
      "3697\n"
     ]
    }
   ],
   "source": [
    "#for real\n",
    "input = open(\"day6input.txt\").read()\n",
    "output = charatersUntilMessageMarkerComplete(input)\n",
    "print(output)"
   ]
  },
  {
   "cell_type": "markdown",
   "metadata": {},
   "source": [
    "# For fun - Doing it properly\n",
    "\n",
    "There are a pyriad of way of creating more \"elegant\" solutions to this. Given today's problem didn't require much wranling, let's use some extra time to explore how we could create a custom datatype/class, DistinctBuffer.\n"
   ]
  },
  {
   "cell_type": "code",
   "execution_count": 95,
   "metadata": {},
   "outputs": [],
   "source": [
    "class DistinctBuffer:\n",
    "    def __init__(self, size:int):\n",
    "        self.size = size\n",
    "        self.store = []\n",
    "\n",
    "    def addElementAndCheckDistinct(self, input: str)->bool:\n",
    "        if len(self.store)==self.size:\n",
    "            self.store.pop(0)\n",
    "        self.store.append(input)\n",
    "        distinctSet = set(self.store)\n",
    "        return len(distinctSet)==self.size"
   ]
  },
  {
   "cell_type": "markdown",
   "metadata": {},
   "source": [
    "Now let's try and recreate Part 1 using this DistinctBuffer\n",
    "\n"
   ]
  },
  {
   "cell_type": "code",
   "execution_count": 97,
   "metadata": {},
   "outputs": [
    {
     "name": "stdout",
     "output_type": "stream",
     "text": [
      "mjqjpqmgbljsphdztnvjfqwrcgsmlb\n",
      "7\n",
      "Test passed? True\n",
      "bvwbjplbgvbhsrlpgdmjqwftvncz\n",
      "5\n",
      "Test passed? True\n",
      "nppdvjthqldpwncqszvftbrmjlhg\n",
      "6\n",
      "Test passed? True\n",
      "nznrnfrfntjfmvfwmzdfjlvtqnbhcprsg\n",
      "10\n",
      "Test passed? True\n",
      "zcfzfwzzqfrljwzlrfnpqdbhtmscgvjw\n",
      "11\n",
      "Test passed? True\n",
      "-----------------------------\n",
      "All test pasing? True\n"
     ]
    }
   ],
   "source": [
    "def charatersUntilMarkerComplete2(input:str, unqiueChar:int)->int:\n",
    "    #need to store last four characters\n",
    "    buffer = DistinctBuffer(unqiueChar)\n",
    "    charCount:int = 0\n",
    "\n",
    "    for c in input:\n",
    "        charCount += 1\n",
    "        if buffer.addElementAndCheckDistinct(c):\n",
    "            return charCount\n",
    "    #error condition - didn't find the marker        \n",
    "    return 0\n",
    "\n",
    "\n",
    "\n",
    "#test data\n",
    "testdataInputs = ['mjqjpqmgbljsphdztnvjfqwrcgsmlb','bvwbjplbgvbhsrlpgdmjqwftvncz','nppdvjthqldpwncqszvftbrmjlhg','nznrnfrfntjfmvfwmzdfjlvtqnbhcprsg','zcfzfwzzqfrljwzlrfnpqdbhtmscgvjw']\n",
    "testdataAnswers = [7,5,6,10,11]\n",
    "\n",
    "#test runner\n",
    "allTestsPassing = True\n",
    "for i in range(5):\n",
    "    input = testdataInputs[i]\n",
    "    print(input)\n",
    "    output = charatersUntilMarkerComplete2(input,4)\n",
    "    print(output)\n",
    "    testResult = output == testdataAnswers[i]\n",
    "    print('Test passed? ' + str(testResult))\n",
    "    allTestsPassing = allTestsPassing and testResult\n",
    "print('-----------------------------')\n",
    "print('All test pasing? ' + str(allTestsPassing))"
   ]
  },
  {
   "cell_type": "markdown",
   "metadata": {},
   "source": [
    "That went well. We can now recreate part 2, without even creating another function"
   ]
  },
  {
   "cell_type": "code",
   "execution_count": 98,
   "metadata": {},
   "outputs": [
    {
     "name": "stdout",
     "output_type": "stream",
     "text": [
      "mjqjpqmgbljsphdztnvjfqwrcgsmlb\n",
      "19\n",
      "Test passed? True\n",
      "bvwbjplbgvbhsrlpgdmjqwftvncz\n",
      "23\n",
      "Test passed? True\n",
      "nppdvjthqldpwncqszvftbrmjlhg\n",
      "23\n",
      "Test passed? True\n",
      "nznrnfrfntjfmvfwmzdfjlvtqnbhcprsg\n",
      "29\n",
      "Test passed? True\n",
      "zcfzfwzzqfrljwzlrfnpqdbhtmscgvjw\n",
      "26\n",
      "Test passed? True\n",
      "-----------------------------\n",
      "All test pasing? True\n"
     ]
    }
   ],
   "source": [
    "#Part 2 revisited\n",
    "\n",
    "#test data \n",
    "\n",
    "testdataInputs = ['mjqjpqmgbljsphdztnvjfqwrcgsmlb','bvwbjplbgvbhsrlpgdmjqwftvncz','nppdvjthqldpwncqszvftbrmjlhg','nznrnfrfntjfmvfwmzdfjlvtqnbhcprsg','zcfzfwzzqfrljwzlrfnpqdbhtmscgvjw']\n",
    "testdataAnswers = [19,23,23,29,26]\n",
    "\n",
    "allTestsPassing = True\n",
    "for i in range(5):\n",
    "    input = testdataInputs[i]\n",
    "    print(input)\n",
    "    output = charatersUntilMarkerComplete2(input,14)\n",
    "    print(output)\n",
    "    testResult = output == testdataAnswers[i]\n",
    "    print('Test passed? ' + str(testResult))\n",
    "    allTestsPassing = allTestsPassing and testResult\n",
    "print('-----------------------------')\n",
    "print('All test pasing? ' + str(allTestsPassing))\n"
   ]
  },
  {
   "cell_type": "markdown",
   "metadata": {},
   "source": [
    "And the actual results for Part 1 and Part 2:"
   ]
  },
  {
   "cell_type": "code",
   "execution_count": 100,
   "metadata": {},
   "outputs": [
    {
     "name": "stdout",
     "output_type": "stream",
     "text": [
      "1707\n",
      "3697\n"
     ]
    }
   ],
   "source": [
    "input = open(\"day6input.txt\").read()\n",
    "part1answer = charatersUntilMarkerComplete2(input,4)\n",
    "print(part1answer)\n",
    "\n",
    "part2answer = charatersUntilMarkerComplete2(input,14)\n",
    "print(part2answer)"
   ]
  }
 ],
 "metadata": {
  "kernelspec": {
   "display_name": "Python 3.11.0 64-bit",
   "language": "python",
   "name": "python3"
  },
  "language_info": {
   "codemirror_mode": {
    "name": "ipython",
    "version": 3
   },
   "file_extension": ".py",
   "mimetype": "text/x-python",
   "name": "python",
   "nbconvert_exporter": "python",
   "pygments_lexer": "ipython3",
   "version": "3.11.0"
  },
  "orig_nbformat": 4,
  "vscode": {
   "interpreter": {
    "hash": "aee8b7b246df8f9039afb4144a1f6fd8d2ca17a180786b69acc140d282b71a49"
   }
  }
 },
 "nbformat": 4,
 "nbformat_minor": 2
}
