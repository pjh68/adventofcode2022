{
 "cells": [
  {
   "attachments": {},
   "cell_type": "markdown",
   "metadata": {},
   "source": [
    "# Day 21 Monkey Math\n",
    "\n",
    "Or should it be called \"monkey dispatch\"? Cos that's my approach: register monkeys for events, and dispatch when event occurs"
   ]
  },
  {
   "cell_type": "code",
   "execution_count": 38,
   "metadata": {},
   "outputs": [
    {
     "name": "stdout",
     "output_type": "stream",
     "text": [
      "delta: -150.0\n"
     ]
    },
    {
     "data": {
      "text/plain": [
       "-150.0"
      ]
     },
     "execution_count": 38,
     "metadata": {},
     "output_type": "execute_result"
    }
   ],
   "source": [
    "testData = \"\"\"root: pppw + sjmn\n",
    "dbpl: 5\n",
    "cczh: sllz + lgvd\n",
    "zczc: 2\n",
    "ptdq: humn - dvpt\n",
    "dvpt: 3\n",
    "lfqf: 4\n",
    "humn: 5\n",
    "ljgn: 2\n",
    "sjmn: drzm * dbpl\n",
    "sllz: 4\n",
    "pppw: cczh / lfqf\n",
    "lgvd: ljgn * ptdq\n",
    "drzm: hmdt - zczc\n",
    "hmdt: 32\"\"\"\n",
    "\n",
    "class MonkeyTalk:\n",
    "    def __init__(self, input:str):\n",
    "        self.input = input\n",
    "    \n",
    "    def restart(self):\n",
    "        self.monkeys = []\n",
    "        self.knownValues:{str:int} = {}\n",
    "        self.monkeyListeners:{str:[Monkey]} = {}\n",
    "        self.monkeyEvents=[]\n",
    "        self.endTalk = False\n",
    "        for l in self.input.splitlines():\n",
    "            chunk = l.split(': ')\n",
    "            monkeyID = chunk[0]\n",
    "            operators = chunk[1].split(' ')\n",
    "            if len(operators)==1:\n",
    "                #number already known\n",
    "                #m = Monkey(monkeyID, self)\n",
    "                #The monkey will only shout and then do nothing, so don't think I even need to create the monkey object\n",
    "                self.knownValues[monkeyID] = int(operators[0])\n",
    "                self.chat(monkeyID)\n",
    "            else:\n",
    "                #number not already known\n",
    "                m = Monkey(monkeyID,self)\n",
    "                self.monkeys.append(m)\n",
    "                m.left = operators[0]\n",
    "                m.operator = operators[1]\n",
    "                m.right = operators[2]\n",
    "                self.registerListener(m.left, m)\n",
    "                self.registerListener(m.right, m)\n",
    "        #print('MonkeyTalk initalised with '+str(len(self.monkeys))+' monkeys listening and ' + str(len(self.monkeyEvents))+ ' monkeys already shouting')\n",
    "\n",
    "\n",
    "\n",
    "    def registerListener(self, listenID:str, dispatchMonkey):\n",
    "        if listenID in self.monkeyListeners:\n",
    "            self.monkeyListeners[listenID].append(dispatchMonkey)\n",
    "        else:\n",
    "            self.monkeyListeners[listenID] = [dispatchMonkey]\n",
    "\n",
    "    def chat(self, monkeyID:str):\n",
    "        self.monkeyEvents.append(monkeyID)\n",
    "\n",
    "    def runTalk(self,valueForHuman:int):\n",
    "        self.restart()\n",
    "        #run the event queue\n",
    "        self.knownValues['humn'] = valueForHuman\n",
    "        while self.monkeyEvents and not self.endTalk:\n",
    "            e = self.monkeyEvents.pop(0)\n",
    "            for m in self.monkeyListeners[e]:\n",
    "                m.handleEvent() #we don't call any parameters, because the monkey will need to check both values exist anyway\n",
    "        else:\n",
    "            #print('Monkeys have run out of chat')\n",
    "            pass\n",
    "        return self.delta\n",
    "\n",
    "class Monkey:\n",
    "    def __init__(self, id:str, talk:MonkeyTalk):\n",
    "        self.id = id\n",
    "        self.talk = talk\n",
    "        #setup in monkeytalk:\n",
    "        #m.left = operators[1]\n",
    "        #m.operator = operators[2]\n",
    "        #m.right = operators[3]\n",
    "\n",
    "    def handleEvent(self):\n",
    "        #we know value has been updated, but need to check which\n",
    "        if self.left in self.talk.knownValues and self.right in self.talk.knownValues:\n",
    "            left = self.talk.knownValues[self.left]\n",
    "            right = self.talk.knownValues[self.right]\n",
    "            if self.id == 'root':\n",
    "                #print('Root value found. Left='+str(left)+' Right='+str(right))\n",
    "                #print('Root ='+str(left==right))\n",
    "                self.talk.endTalk = True\n",
    "                self.talk.delta = left - right\n",
    "                print('delta: '+str(left-right))\n",
    "            else:\n",
    "                match self.operator:\n",
    "                    case '+':\n",
    "                        value = left + right\n",
    "                    case '-':\n",
    "                        value = left - right\n",
    "                    case '*':\n",
    "                        value = left * right\n",
    "                    case '/':\n",
    "                        value = left / right\n",
    "                    case _:\n",
    "                        raise Exception('unknown operator: '+str(self.operator))\n",
    "                #print('Monkey ' + self.id + ' knowns left='+str(self.left)+' and right='+str(self.right)+' using operator='+self.operator+' yields value='+str(value))\n",
    "                self.talk.knownValues[self.id] = value\n",
    "                self.talk.chat(self.id)\n",
    "            \n",
    "\n",
    "#tests\n",
    "tmt = MonkeyTalk(testData)\n",
    "tmt.runTalk(1)\n",
    "\n",
    "\n",
    "        \n"
   ]
  },
  {
   "cell_type": "code",
   "execution_count": 30,
   "metadata": {},
   "outputs": [
    {
     "name": "stdout",
     "output_type": "stream",
     "text": [
      "MonkeyTalk initalised with 1377 monkeys listening and 1378 monkeys already shouting\n",
      "Root value found. Left=113704496362787.78 Right=56517685690674.0\n",
      "Root =False\n",
      "Monkeys have run out of chat\n"
     ]
    },
    {
     "data": {
      "text/plain": [
       "57186810672113.78"
      ]
     },
     "execution_count": 30,
     "metadata": {},
     "output_type": "execute_result"
    }
   ],
   "source": [
    "puzzleinput = open('day21input.txt').read()\n",
    "mt = MonkeyTalk(puzzleinput)\n",
    "mt.runTalk(1000000000)\n"
   ]
  },
  {
   "cell_type": "code",
   "execution_count": 32,
   "metadata": {},
   "outputs": [
    {
     "name": "stdout",
     "output_type": "stream",
     "text": [
      "Defaulting to user installation because normal site-packages is not writeable\n",
      "Collecting scipy\n",
      "  Downloading scipy-1.9.3-cp311-cp311-macosx_12_0_arm64.whl (28.4 MB)\n",
      "\u001b[2K     \u001b[90m━━━━━━━━━━━━━━━━━━━━━━━━━━━━━━━━━━━━━━━━\u001b[0m \u001b[32m28.4/28.4 MB\u001b[0m \u001b[31m2.8 MB/s\u001b[0m eta \u001b[36m0:00:00\u001b[0m00:01\u001b[0m00:01\u001b[0m\n",
      "\u001b[?25hCollecting numpy<1.26.0,>=1.18.5\n",
      "  Downloading numpy-1.24.0-cp311-cp311-macosx_11_0_arm64.whl (13.8 MB)\n",
      "\u001b[2K     \u001b[90m━━━━━━━━━━━━━━━━━━━━━━━━━━━━━━━━━━━━━━━━\u001b[0m \u001b[32m13.8/13.8 MB\u001b[0m \u001b[31m2.8 MB/s\u001b[0m eta \u001b[36m0:00:00\u001b[0m00:01\u001b[0m00:01\u001b[0m\n",
      "\u001b[?25hInstalling collected packages: numpy, scipy\n",
      "\u001b[33m  WARNING: The scripts f2py, f2py3 and f2py3.11 are installed in '/Users/phempsall/Library/Python/3.11/bin' which is not on PATH.\n",
      "  Consider adding this directory to PATH or, if you prefer to suppress this warning, use --no-warn-script-location.\u001b[0m\u001b[33m\n",
      "\u001b[0mSuccessfully installed numpy-1.24.0 scipy-1.9.3\n",
      "\n",
      "\u001b[1m[\u001b[0m\u001b[34;49mnotice\u001b[0m\u001b[1;39;49m]\u001b[0m\u001b[39;49m A new release of pip available: \u001b[0m\u001b[31;49m22.3\u001b[0m\u001b[39;49m -> \u001b[0m\u001b[32;49m22.3.1\u001b[0m\n",
      "\u001b[1m[\u001b[0m\u001b[34;49mnotice\u001b[0m\u001b[1;39;49m]\u001b[0m\u001b[39;49m To update, run: \u001b[0m\u001b[32;49mpython3 -m pip install --upgrade pip\u001b[0m\n"
     ]
    }
   ],
   "source": [
    "#let's throw some heavy weaponary at this\n",
    "import sys\n",
    "!{sys.executable} -m pip install scipy\n",
    "\n"
   ]
  },
  {
   "cell_type": "code",
   "execution_count": 46,
   "metadata": {},
   "outputs": [
    {
     "name": "stdout",
     "output_type": "stream",
     "text": [
      "delta: -2565717678594427.0\n",
      "delta: 57202218066240.0\n",
      "delta: 0.0\n"
     ]
    },
    {
     "data": {
      "text/plain": [
       "(3712643961892.0, 2, 3)"
      ]
     },
     "execution_count": 46,
     "metadata": {},
     "output_type": "execute_result"
    }
   ],
   "source": [
    "from scipy.optimize import root_scalar\n",
    "mt2 = MonkeyTalk(puzzleinput)\n",
    "sol = root_scalar(mt2.runTalk, x0=170237589447588, x1=862)\n",
    "sol.root, sol.iterations, sol.function_calls"
   ]
  }
 ],
 "metadata": {
  "kernelspec": {
   "display_name": "Python 3",
   "language": "python",
   "name": "python3"
  },
  "language_info": {
   "codemirror_mode": {
    "name": "ipython",
    "version": 3
   },
   "file_extension": ".py",
   "mimetype": "text/x-python",
   "name": "python",
   "nbconvert_exporter": "python",
   "pygments_lexer": "ipython3",
   "version": "3.11.0"
  },
  "orig_nbformat": 4,
  "vscode": {
   "interpreter": {
    "hash": "aee8b7b246df8f9039afb4144a1f6fd8d2ca17a180786b69acc140d282b71a49"
   }
  }
 },
 "nbformat": 4,
 "nbformat_minor": 2
}
