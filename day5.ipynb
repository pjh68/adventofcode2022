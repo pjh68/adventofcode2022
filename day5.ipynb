{
 "cells": [
  {
   "cell_type": "markdown",
   "metadata": {},
   "source": [
    "## Day 5: Supply Stacks \n",
    "\n",
    "The expedition can depart as soon as the final supplies have been unloaded from the ships. Supplies are stored in stacks of marked crates, but because the needed supplies are buried under many other crates, the crates need to be rearranged.\n",
    "\n",
    "The ship has a giant cargo crane capable of moving crates between stacks. To ensure none of the crates get crushed or fall over, the crane operator will rearrange them in a series of carefully-planned steps. After the crates are rearranged, the desired crates will be at the top of each stack.\n",
    "\n",
    "The Elves don't want to interrupt the crane operator during this delicate procedure, but they forgot to ask her which crate will end up where, and they want to be ready to unload them as soon as possible so they can embark.\n",
    "\n",
    "They do, however, have a drawing of the starting stacks of crates and the rearrangement procedure (your puzzle input). For example:\n",
    "```\n",
    "    [D]    \n",
    "[N] [C]    \n",
    "[Z] [M] [P]\n",
    " 1   2   3 \n",
    "\n",
    "move 1 from 2 to 1\n",
    "move 3 from 1 to 3\n",
    "move 2 from 2 to 1\n",
    "move 1 from 1 to 2\n",
    "```\n",
    "In this example, there are three stacks of crates. Stack 1 contains two crates: crate Z is on the bottom, and crate N is on top. Stack 2 contains three crates; from bottom to top, they are crates M, C, and D. Finally, stack 3 contains a single crate, P.\n",
    "\n",
    "Then, the rearrangement procedure is given. In each step of the procedure, a quantity of crates is moved from one stack to a different stack. In the first step of the above rearrangement procedure, one crate is moved from stack 2 to stack 1, resulting in this configuration:\n",
    "```\n",
    "[D]        \n",
    "[N] [C]    \n",
    "[Z] [M] [P]\n",
    " 1   2   3 ]\n",
    "```\n",
    "In the second step, three crates are moved from stack 1 to stack 3. Crates are moved one at a time, so the first crate to be moved (D) ends up below the second and third crates:\n",
    "```\n",
    "        [Z]\n",
    "        [N]\n",
    "    [C] [D]\n",
    "    [M] [P]\n",
    " 1   2   3\n",
    "```\n",
    "Then, both crates are moved from stack 2 to stack 1. Again, because crates are moved one at a time, crate C ends up below crate M:\n",
    "```\n",
    "        [Z]\n",
    "        [N]\n",
    "[M]     [D]\n",
    "[C]     [P]\n",
    " 1   2   3\n",
    "```\n",
    "Finally, one crate is moved from stack 1 to stack 2:\n",
    "```\n",
    "        [Z]\n",
    "        [N]\n",
    "        [D]\n",
    "[C] [M] [P]\n",
    " 1   2   3\n",
    "```\n",
    "The Elves just need to know which crate will end up on top of each stack; in this example, the top crates are C in stack 1, M in stack 2, and Z in stack 3, so you should combine these together and give the Elves the message CMZ.\n",
    "\n",
    "After the rearrangement procedure completes, what crate ends up on top of each stack?"
   ]
  },
  {
   "cell_type": "markdown",
   "metadata": {},
   "source": [
    "### Approach\n",
    "\n",
    "Need to parse the input... moderately horrible today! \n",
    "1. For the stacks, can use fixed width processing \n",
    "2. Number of stacks: find the stack identifier line (first char: \"1\")\n",
    "3. look out for \"[\" vs \"move\" as first token\n",
    "\n",
    "Use array of arrays (well, list of lists in python) to hold stacks - note 1 index on instructions, rather than zero index.\n",
    "Reverse them - i.e. append and remove from tail. Will be slightly more efficient. Python does have a pop() function that can easily remove last element of a list\n",
    "\n",
    "## Input data layout analysis\n",
    "```\n",
    "00000000001\n",
    "12345678901\n",
    "    [D]    \n",
    "[N] [C]    \n",
    "[Z] [M] [P]\n",
    " 1   2   3 \n",
    "```\n",
    "\n",
    "Stack 1 char @ 2\n",
    "Stack 2 char @ 6\n",
    "Stack 3 char @ 10\n",
    "\n",
    "Charater at 2 + 4(n -1) \n",
    "\n",
    "\n",
    "\n"
   ]
  },
  {
   "cell_type": "code",
   "execution_count": 2,
   "metadata": {},
   "outputs": [],
   "source": [
    "testdata = \"\"\"    [D]    \n",
    "[N] [C]    \n",
    "[Z] [M] [P]\n",
    " 1   2   3 \n",
    "\n",
    "move 1 from 2 to 1\n",
    "move 3 from 1 to 3\n",
    "move 2 from 2 to 1\n",
    "move 1 from 1 to 2\"\"\""
   ]
  },
  {
   "cell_type": "code",
   "execution_count": 22,
   "metadata": {},
   "outputs": [
    {
     "name": "stdout",
     "output_type": "stream",
     "text": [
      "(3, ['    [D]    ', '[N] [C]    ', '[Z] [M] [P]'], ['move 1 from 2 to 1', 'move 3 from 1 to 3', 'move 2 from 2 to 1', 'move 1 from 1 to 2'])\n",
      "9 8 502\n"
     ]
    }
   ],
   "source": [
    "#pre-process input and split into: number of stack, the stack text, the move text\n",
    "\n",
    "def processinput(input:str)->(int,[str],[str]):\n",
    "    maxStackID = 0\n",
    "    stacksString = []\n",
    "    moves = []\n",
    "    for l in str.splitlines(input):\n",
    "        #get first non-whitespace character\n",
    "        cleanstring = l.strip()\n",
    "\n",
    "\n",
    "        if len(cleanstring) > 0:\n",
    "            firstchar = cleanstring[0]\n",
    "            match firstchar:\n",
    "                case '[':\n",
    "                    #stacks\n",
    "                    stacksString.append(l)\n",
    "                case '1':\n",
    "                    #stack counters\n",
    "                    stackIDs = [int(x) for x in cleanstring.split()]\n",
    "                    maxStackID = max(stackIDs)\n",
    "                case 'm':\n",
    "                    #move instructions\n",
    "                    moves.append(l)\n",
    "\n",
    "    return (maxStackID, stacksString, moves)\n",
    "\n",
    "\n",
    "#testdata\n",
    "print(processinput(testdata))\n",
    "\n",
    "#for real\n",
    "input = open(\"day5input.txt\").read()\n",
    "maxStackID, stacksString, moves = processinput(input)\n",
    "print(maxStackID, len(stacksString), len(moves))\n",
    "\n"
   ]
  },
  {
   "cell_type": "code",
   "execution_count": 34,
   "metadata": {},
   "outputs": [
    {
     "name": "stdout",
     "output_type": "stream",
     "text": [
      "[['Z', 'N'], ['M', 'C', 'D'], ['P']]\n"
     ]
    }
   ],
   "source": [
    "def processStacks(stacksString: [str], numStacks:int)->[[str]]:\n",
    "    #split the input input lines of stacks into an array of arrays\n",
    "    stacks = [[] for i in range(numStacks)] #set up the empty stacks\n",
    "    for l in stacksString:\n",
    "        #make it fixed width, so we don't have to do bound checks later\n",
    "        width = 2 + 4*numStacks #should -1, but doesn't matter for padding\n",
    "        l.ljust(width)\n",
    "        for i in range(numStacks): #zero index\n",
    "            charposition = 2 + 4*i - 1\n",
    "            stackchar = l[charposition]\n",
    "            if stackchar != ' ':\n",
    "                stacks[i].append(stackchar)\n",
    "    #reverse the stack\n",
    "    [stack.reverse() for stack in stacks]\n",
    "    return stacks\n",
    "\n",
    "\n",
    "#test\n",
    "maxStackID, stacksString, moves = processinput(testdata)\n",
    "stacklists = processStacks(stacksString, maxStackID)\n",
    "print(stacklists)\n"
   ]
  },
  {
   "cell_type": "code",
   "execution_count": 35,
   "metadata": {},
   "outputs": [
    {
     "name": "stdout",
     "output_type": "stream",
     "text": [
      "NDP\n"
     ]
    }
   ],
   "source": [
    "\n",
    "\n",
    "def topItemsFromStacks(stacks:[[str]])->str:\n",
    "    #our stacks are reverse, so last item in each stack\n",
    "    output = ''\n",
    "    for stack in stacks:\n",
    "        output += stack[-1]\n",
    "    return output\n",
    "\n",
    "#test\n",
    "print(topItemsFromStacks(stacklists)) \n"
   ]
  },
  {
   "cell_type": "code",
   "execution_count": 36,
   "metadata": {},
   "outputs": [
    {
     "name": "stdout",
     "output_type": "stream",
     "text": [
      "[['C'], ['M'], ['P', 'D', 'N', 'Z']]\n",
      "CMZ\n"
     ]
    }
   ],
   "source": [
    "def moveStacks(stacks:[[str]],moves:[str])->[[str]]:\n",
    "    for moveStr in moves:\n",
    "        #example: move 1 from 2 to 1\n",
    "        moveInstruction = moveStr.split()\n",
    "        numItems = int(moveInstruction[1])\n",
    "        fromStack = int(moveInstruction[3]) - 1\n",
    "        toStack = int(moveInstruction[5]) - 1\n",
    "        #print((numItems,fromStack,toStack)) \n",
    "        #items move one at a time!\n",
    "        for x in range(numItems):\n",
    "            item = stacks[fromStack].pop()\n",
    "            stacks[toStack].append(item)\n",
    "    \n",
    "    return stacks\n",
    "\n",
    "finalstacks = moveStacks(stacklists,moves)\n",
    "print(finalstacks)\n",
    "print(topItemsFromStacks(finalstacks))\n",
    "\n"
   ]
  },
  {
   "cell_type": "code",
   "execution_count": 37,
   "metadata": {},
   "outputs": [
    {
     "name": "stdout",
     "output_type": "stream",
     "text": [
      "[['B', 'Q', 'N', 'Q', 'W'], ['V', 'F', 'Q', 'M', 'F', 'G', 'H'], ['T'], ['L'], ['C', 'N', 'P', 'J', 'B', 'P', 'G', 'H', 'M', 'B', 'M', 'H', 'M', 'T', 'S', 'H', 'P', 'M', 'T', 'B', 'M', 'F', 'G', 'W', 'N', 'P', 'R'], ['M', 'M'], ['L', 'B', 'D', 'N', 'H', 'Z'], ['G', 'D', 'L', 'R'], ['D', 'V', 'C']]\n",
      "WHTLRMZRC\n"
     ]
    }
   ],
   "source": [
    "#put it all together\n",
    "input = open(\"day5input.txt\").read()\n",
    "maxStackID, stacksString, moves = processinput(input)\n",
    "stacklists = processStacks(stacksString, maxStackID)\n",
    "finalstacks = moveStacks(stacklists,moves)\n",
    "print(finalstacks)\n",
    "print(topItemsFromStacks(finalstacks))\n",
    "\n",
    "\n",
    "\n"
   ]
  },
  {
   "cell_type": "markdown",
   "metadata": {},
   "source": [
    "## Part Two \n",
    "\n",
    "As you watch the crane operator expertly rearrange the crates, you notice the process isn't following your prediction.\n",
    "\n",
    "Some mud was covering the writing on the side of the crane, and you quickly wipe it away. The crane isn't a CrateMover 9000 - it's a CrateMover 9001.\n",
    "\n",
    "The CrateMover 9001 is notable for many new and exciting features: air conditioning, leather seats, an extra cup holder, and the ability to pick up and move multiple crates at once.\n",
    "\n",
    "Again considering the example above, the crates begin in the same configuration:\n",
    "```\n",
    "    [D]    \n",
    "[N] [C]    \n",
    "[Z] [M] [P]\n",
    " 1   2   3 \n",
    "```\n",
    "Moving a single crate from stack 2 to stack 1 behaves the same as before:\n",
    "```\n",
    "[D]        \n",
    "[N] [C]    \n",
    "[Z] [M] [P]\n",
    " 1   2   3 \n",
    "```\n",
    "However, the action of moving three crates from stack 1 to stack 3 means that those three moved crates stay in the same order, resulting in this new configuration:\n",
    "```\n",
    "        [D]\n",
    "        [N]\n",
    "    [C] [Z]\n",
    "    [M] [P]\n",
    " 1   2   3\n",
    "```\n",
    "Next, as both crates are moved from stack 2 to stack 1, they retain their order as well:\n",
    "```\n",
    "        [D]\n",
    "        [N]\n",
    "[C]     [Z]\n",
    "[M]     [P]\n",
    " 1   2   3\n",
    "```\n",
    "Finally, a single crate is still moved from stack 1 to stack 2, but now it's crate C that gets moved:\n",
    "```\n",
    "        [D]\n",
    "        [N]\n",
    "        [Z]\n",
    "[M] [C] [P]\n",
    " 1   2   3\n",
    "```\n",
    "In this example, the CrateMover 9001 has put the crates in a totally different order: MCD.\n",
    "\n",
    "Before the rearrangement process finishes, update your simulation so that the Elves know where they should stand to be ready to unload the final supplies. After the rearrangement procedure completes, what crate ends up on top of each stack?\n",
    "\n"
   ]
  },
  {
   "cell_type": "code",
   "execution_count": 43,
   "metadata": {},
   "outputs": [
    {
     "name": "stdout",
     "output_type": "stream",
     "text": [
      "[['M'], ['C'], ['P', 'Z', 'N', 'D']]\n",
      "MCD\n"
     ]
    }
   ],
   "source": [
    "def moveStacks9001(stacks:[[str]],moves:[str])->[[str]]:\n",
    "    for moveStr in moves:\n",
    "        #example: move 1 from 2 to 1\n",
    "        moveInstruction = moveStr.split()\n",
    "        numItems = int(moveInstruction[1])\n",
    "        fromStack = int(moveInstruction[3]) - 1\n",
    "        toStack = int(moveInstruction[5]) - 1\n",
    "        #print((numItems,fromStack,toStack)) \n",
    "        #items move all at once - so need to move slices\n",
    "        items = stacks[fromStack][-numItems:]\n",
    "        stacks[fromStack] = stacks[fromStack][:-numItems]\n",
    "        stacks[toStack].extend(items)\n",
    "    \n",
    "    return stacks\n",
    "\n",
    "#test\n",
    "input = testdata\n",
    "maxStackID, stacksString, moves = processinput(input)\n",
    "stacklists = processStacks(stacksString, maxStackID)\n",
    "finalstacks = moveStacks9001(stacklists,moves)\n",
    "print(finalstacks)\n",
    "print(topItemsFromStacks(finalstacks))\n"
   ]
  },
  {
   "cell_type": "code",
   "execution_count": 44,
   "metadata": {},
   "outputs": [
    {
     "name": "stdout",
     "output_type": "stream",
     "text": [
      "[['V', 'M', 'P', 'C', 'G'], ['N', 'N', 'B', 'H', 'S', 'D', 'M'], ['P'], ['M'], ['P', 'G', 'P', 'L', 'T', 'M', 'J', 'H', 'B', 'B', 'N', 'W', 'B', 'Q', 'R', 'B', 'Q', 'D', 'M', 'F', 'H', 'V', 'H', 'F', 'C', 'F', 'L'], ['H', 'W'], ['L', 'Q', 'T', 'R', 'Z', 'N'], ['T', 'M', 'D', 'M'], ['M', 'G', 'G']]\n",
      "GMPMLWNMG\n"
     ]
    }
   ],
   "source": [
    "#part 2 final run\n",
    "input = open(\"day5input.txt\").read()\n",
    "maxStackID, stacksString, moves = processinput(input)\n",
    "stacklists = processStacks(stacksString, maxStackID)\n",
    "finalstacks = moveStacks9001(stacklists,moves)\n",
    "print(finalstacks)\n",
    "print(topItemsFromStacks(finalstacks))"
   ]
  }
 ],
 "metadata": {
  "kernelspec": {
   "display_name": "Python 3.11.0 64-bit",
   "language": "python",
   "name": "python3"
  },
  "language_info": {
   "codemirror_mode": {
    "name": "ipython",
    "version": 3
   },
   "file_extension": ".py",
   "mimetype": "text/x-python",
   "name": "python",
   "nbconvert_exporter": "python",
   "pygments_lexer": "ipython3",
   "version": "3.11.0"
  },
  "orig_nbformat": 4,
  "vscode": {
   "interpreter": {
    "hash": "aee8b7b246df8f9039afb4144a1f6fd8d2ca17a180786b69acc140d282b71a49"
   }
  }
 },
 "nbformat": 4,
 "nbformat_minor": 2
}
