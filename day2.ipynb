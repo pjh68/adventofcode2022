{
 "cells": [
  {
   "cell_type": "markdown",
   "metadata": {},
   "source": [
    "# Advent of Code Day 2\n",
    "\n",
    "--- Day 2: Rock Paper Scissors ---\n",
    "\n",
    "The Elves begin to set up camp on the beach. To decide whose tent gets to be closest to the snack storage, a giant Rock Paper Scissors tournament is already in progress.\n",
    "\n",
    "Rock Paper Scissors is a game between two players. Each game contains many rounds; in each round, the players each simultaneously choose one of Rock, Paper, or Scissors using a hand shape. Then, a winner for that round is selected: Rock defeats Scissors, Scissors defeats Paper, and Paper defeats Rock. If both players choose the same shape, the round instead ends in a draw.\n",
    "\n",
    "Appreciative of your help yesterday, one Elf gives you an encrypted strategy guide (your puzzle input) that they say will be sure to help you win. \"The first column is what your opponent is going to play: A for Rock, B for Paper, and C for Scissors. The second column--\" Suddenly, the Elf is called away to help with someone's tent.\n",
    "\n",
    "The second column, you reason, must be what you should play in response: X for Rock, Y for Paper, and Z for Scissors. Winning every time would be suspicious, so the responses must have been carefully chosen.\n",
    "\n",
    "The winner of the whole tournament is the player with the highest score. Your total score is the sum of your scores for each round. The score for a single round is the score for the shape you selected (1 for Rock, 2 for Paper, and 3 for Scissors) plus the score for the outcome of the round (0 if you lost, 3 if the round was a draw, and 6 if you won).\n",
    "\n",
    "Since you can't be sure if the Elf is trying to help you or trick you, you should calculate the score you would get if you were to follow the strategy guide.\n",
    "\n",
    "For example, suppose you were given the following strategy guide:\n",
    "```\n",
    "A Y\n",
    "B X\n",
    "C Z\n",
    "```\n",
    "\n",
    "This strategy guide predicts and recommends the following:\n",
    "\n",
    "In the first round, your opponent will choose Rock (A), and you should choose Paper (Y). This ends in a win for you with a score of 8 (2 because you chose Paper + 6 because you won).\n",
    "In the second round, your opponent will choose Paper (B), and you should choose Rock (X). This ends in a loss for you with a score of 1 (1 + 0).\n",
    "The third round is a draw with both players choosing Scissors, giving you a score of 3 + 3 = 6.\n",
    "In this example, if you were to follow the strategy guide, you would get a total score of 15 (8 + 1 + 6).\n",
    "\n",
    "What would your total score be if everything goes exactly according to your strategy guide?\n"
   ]
  },
  {
   "cell_type": "code",
   "execution_count": 9,
   "metadata": {},
   "outputs": [
    {
     "name": "stdout",
     "output_type": "stream",
     "text": [
      "Unit Test\n",
      "15\n",
      "True\n"
     ]
    }
   ],
   "source": [
    "testinput = \"\"\"A Y\n",
    "B X\n",
    "C Z\n",
    "\"\"\"\n",
    "\n",
    "def calculcateScore(input:str)->int:\n",
    "    game = [x.split() for x in str.splitlines(input)]\n",
    "    score = 0\n",
    "    for round in game:\n",
    "        oppChoice = round[0]\n",
    "        myChoice = round[1]\n",
    "        #print(oppChoice + \" vs \" + myChoice)\n",
    "        match myChoice:\n",
    "            case \"X\": #Rock\n",
    "                score += 1\n",
    "                match oppChoice:\n",
    "                    case \"A\": #Rock\n",
    "                        score += 3\n",
    "                    case \"B\": #Paper\n",
    "                        score += 0\n",
    "                    case \"C\": #Scissors\n",
    "                        score += 6\n",
    "            case \"Y\": #Paper\n",
    "                score += 2\n",
    "                match oppChoice:\n",
    "                    case \"A\": #Rock\n",
    "                        score += 6\n",
    "                    case \"B\": #Paper\n",
    "                        score += 3\n",
    "                    case \"C\": #Scissors\n",
    "                        score += 0\n",
    "            case \"Z\": #Scissors\n",
    "                score += 3\n",
    "                match oppChoice:\n",
    "                    case \"A\": #Rock\n",
    "                        score += 0\n",
    "                    case \"B\": #Paper\n",
    "                        score += 6\n",
    "                    case \"C\": #Scissors\n",
    "                        score += 3\n",
    "    return score\n",
    "\n",
    "\n",
    "#unit tests\n",
    "print(\"Unit Test\")\n",
    "testScore = calculcateScore(testinput)\n",
    "print(testScore)\n",
    "print(testScore==15)\n",
    "\n"
   ]
  },
  {
   "cell_type": "markdown",
   "metadata": {},
   "source": [
    "Run the actual input"
   ]
  },
  {
   "cell_type": "code",
   "execution_count": 11,
   "metadata": {},
   "outputs": [
    {
     "name": "stdout",
     "output_type": "stream",
     "text": [
      "14531\n"
     ]
    }
   ],
   "source": [
    "input = open(\"day2input.txt\").read()\n",
    "score = calculcateScore(input)\n",
    "print(score)"
   ]
  },
  {
   "cell_type": "markdown",
   "metadata": {},
   "source": [
    "--- Part Two ---\n",
    "\n",
    "The Elf finishes helping with the tent and sneaks back over to you. \"Anyway, the second column says how the round needs to end: X means you need to lose, Y means you need to end the round in a draw, and Z means you need to win. Good luck!\"\n",
    "\n",
    "The total score is still calculated in the same way, but now you need to figure out what shape to choose so the round ends as indicated. The example above now goes like this:\n",
    "\n",
    "In the first round, your opponent will choose Rock (A), and you need the round to end in a draw (Y), so you also choose Rock. This gives you a score of 1 + 3 = 4.\n",
    "In the second round, your opponent will choose Paper (B), and you choose Rock so you lose (X) with a score of 1 + 0 = 1.\n",
    "In the third round, you will defeat your opponent's Scissors with Rock for a score of 1 + 6 = 7.\n",
    "Now that you're correctly decrypting the ultra top secret strategy guide, you would get a total score of 12.\n",
    "\n",
    "Following the Elf's instructions for the second column, what would your total score be if everything goes exactly according to your strategy guide?"
   ]
  },
  {
   "cell_type": "code",
   "execution_count": 13,
   "metadata": {},
   "outputs": [
    {
     "name": "stdout",
     "output_type": "stream",
     "text": [
      "Unit Test\n",
      "12\n",
      "True\n"
     ]
    }
   ],
   "source": [
    "testinput = \"\"\"A Y\n",
    "B X\n",
    "C Z\n",
    "\"\"\"\n",
    "\n",
    "def calculcateScore2(input:str)->int:\n",
    "    game = [x.split() for x in str.splitlines(input)]\n",
    "    score = 0\n",
    "    for round in game:\n",
    "        oppChoice = round[0]\n",
    "        myChoice = round[1]\n",
    "        #print(oppChoice + \" vs \" + myChoice)\n",
    "        match myChoice:\n",
    "            case \"X\": #Lose\n",
    "                score += 0\n",
    "                match oppChoice:\n",
    "                    case \"A\": #Rock -> Scissors\n",
    "                        score += 3\n",
    "                    case \"B\": #Paper -> Rock\n",
    "                        score += 1\n",
    "                    case \"C\": #Scissors -> Paper\n",
    "                        score += 2\n",
    "            case \"Y\": #Draw\n",
    "                score += 3\n",
    "                match oppChoice:\n",
    "                    case \"A\": #Rock \n",
    "                        score += 1\n",
    "                    case \"B\": #Paper\n",
    "                        score += 2\n",
    "                    case \"C\": #Scissors\n",
    "                        score += 3\n",
    "            case \"Z\": #Win\n",
    "                score += 6\n",
    "                match oppChoice:\n",
    "                    case \"A\": #Rock -> Paper\n",
    "                        score += 2\n",
    "                    case \"B\": #Paper -> Scissors\n",
    "                        score += 3\n",
    "                    case \"C\": #Scissors -> Rocl\n",
    "                        score += 1\n",
    "    return score\n",
    "\n",
    "\n",
    "#unit tests\n",
    "print(\"Unit Test\")\n",
    "testScore = calculcateScore2(testinput)\n",
    "print(testScore)\n",
    "print(testScore==12)\n"
   ]
  },
  {
   "cell_type": "code",
   "execution_count": 14,
   "metadata": {},
   "outputs": [
    {
     "name": "stdout",
     "output_type": "stream",
     "text": [
      "Real run\n",
      "11258\n"
     ]
    }
   ],
   "source": [
    "\n",
    "print(\"Real run\")\n",
    "input = open(\"day2input.txt\").read()\n",
    "score = calculcateScore2(input)\n",
    "print(score)"
   ]
  }
 ],
 "metadata": {
  "kernelspec": {
   "display_name": "Python 3.11.0 64-bit",
   "language": "python",
   "name": "python3"
  },
  "language_info": {
   "codemirror_mode": {
    "name": "ipython",
    "version": 3
   },
   "file_extension": ".py",
   "mimetype": "text/x-python",
   "name": "python",
   "nbconvert_exporter": "python",
   "pygments_lexer": "ipython3",
   "version": "3.11.0"
  },
  "orig_nbformat": 4,
  "vscode": {
   "interpreter": {
    "hash": "aee8b7b246df8f9039afb4144a1f6fd8d2ca17a180786b69acc140d282b71a49"
   }
  }
 },
 "nbformat": 4,
 "nbformat_minor": 2
}
